{
  "cells": [
    {
      "cell_type": "markdown",
      "metadata": {
        "id": "view-in-github",
        "colab_type": "text"
      },
      "source": [
        "<a href=\"https://colab.research.google.com/github/vinayparjapati5/Text-Summarization-Project/blob/main/Text_LSTM.ipynb\" target=\"_parent\"><img src=\"https://colab.research.google.com/assets/colab-badge.svg\" alt=\"Open In Colab\"/></a>"
      ]
    },
    {
      "cell_type": "markdown",
      "id": "949c00bc",
      "metadata": {
        "id": "949c00bc"
      },
      "source": [
        "##Text Summarization using LSTM"
      ]
    },
    {
      "cell_type": "code",
      "execution_count": 2,
      "id": "2848e572",
      "metadata": {
        "colab": {
          "base_uri": "https://localhost:8080/"
        },
        "id": "2848e572",
        "outputId": "cf5deace-1c39-41e6-8760-16ba6d1ccc49"
      },
      "outputs": [
        {
          "output_type": "stream",
          "name": "stdout",
          "text": [
            "Collecting mealpy\n",
            "  Downloading mealpy-3.0.1-py3-none-any.whl (386 kB)\n",
            "\u001b[?25l     \u001b[90m━━━━━━━━━━━━━━━━━━━━━━━━━━━━━━━━━━━━━━━━\u001b[0m \u001b[32m0.0/386.3 kB\u001b[0m \u001b[31m?\u001b[0m eta \u001b[36m-:--:--\u001b[0m\r\u001b[2K     \u001b[91m━━━━━━━━━━━━━━━━━━━━━\u001b[0m\u001b[90m╺\u001b[0m\u001b[90m━━━━━━━━━━━━━━━━━━\u001b[0m \u001b[32m204.8/386.3 kB\u001b[0m \u001b[31m6.0 MB/s\u001b[0m eta \u001b[36m0:00:01\u001b[0m\r\u001b[2K     \u001b[90m━━━━━━━━━━━━━━━━━━━━━━━━━━━━━━━━━━━━━━━━\u001b[0m \u001b[32m386.3/386.3 kB\u001b[0m \u001b[31m6.9 MB/s\u001b[0m eta \u001b[36m0:00:00\u001b[0m\n",
            "\u001b[?25hRequirement already satisfied: numpy>=1.17.5 in /usr/local/lib/python3.10/dist-packages (from mealpy) (1.25.2)\n",
            "Requirement already satisfied: matplotlib>=3.3.0 in /usr/local/lib/python3.10/dist-packages (from mealpy) (3.7.1)\n",
            "Requirement already satisfied: scipy>=1.7.1 in /usr/local/lib/python3.10/dist-packages (from mealpy) (1.11.4)\n",
            "Requirement already satisfied: pandas>=1.2.0 in /usr/local/lib/python3.10/dist-packages (from mealpy) (2.0.3)\n",
            "Collecting opfunu>=1.0.0 (from mealpy)\n",
            "  Downloading opfunu-1.0.2-py3-none-any.whl (13.0 MB)\n",
            "\u001b[2K     \u001b[90m━━━━━━━━━━━━━━━━━━━━━━━━━━━━━━━━━━━━━━━━\u001b[0m \u001b[32m13.0/13.0 MB\u001b[0m \u001b[31m38.2 MB/s\u001b[0m eta \u001b[36m0:00:00\u001b[0m\n",
            "\u001b[?25hRequirement already satisfied: contourpy>=1.0.1 in /usr/local/lib/python3.10/dist-packages (from matplotlib>=3.3.0->mealpy) (1.2.1)\n",
            "Requirement already satisfied: cycler>=0.10 in /usr/local/lib/python3.10/dist-packages (from matplotlib>=3.3.0->mealpy) (0.12.1)\n",
            "Requirement already satisfied: fonttools>=4.22.0 in /usr/local/lib/python3.10/dist-packages (from matplotlib>=3.3.0->mealpy) (4.51.0)\n",
            "Requirement already satisfied: kiwisolver>=1.0.1 in /usr/local/lib/python3.10/dist-packages (from matplotlib>=3.3.0->mealpy) (1.4.5)\n",
            "Requirement already satisfied: packaging>=20.0 in /usr/local/lib/python3.10/dist-packages (from matplotlib>=3.3.0->mealpy) (24.0)\n",
            "Requirement already satisfied: pillow>=6.2.0 in /usr/local/lib/python3.10/dist-packages (from matplotlib>=3.3.0->mealpy) (9.4.0)\n",
            "Requirement already satisfied: pyparsing>=2.3.1 in /usr/local/lib/python3.10/dist-packages (from matplotlib>=3.3.0->mealpy) (3.1.2)\n",
            "Requirement already satisfied: python-dateutil>=2.7 in /usr/local/lib/python3.10/dist-packages (from matplotlib>=3.3.0->mealpy) (2.8.2)\n",
            "Requirement already satisfied: requests>=2.27.0 in /usr/local/lib/python3.10/dist-packages (from opfunu>=1.0.0->mealpy) (2.31.0)\n",
            "Requirement already satisfied: pytz>=2020.1 in /usr/local/lib/python3.10/dist-packages (from pandas>=1.2.0->mealpy) (2023.4)\n",
            "Requirement already satisfied: tzdata>=2022.1 in /usr/local/lib/python3.10/dist-packages (from pandas>=1.2.0->mealpy) (2024.1)\n",
            "Requirement already satisfied: six>=1.5 in /usr/local/lib/python3.10/dist-packages (from python-dateutil>=2.7->matplotlib>=3.3.0->mealpy) (1.16.0)\n",
            "Requirement already satisfied: charset-normalizer<4,>=2 in /usr/local/lib/python3.10/dist-packages (from requests>=2.27.0->opfunu>=1.0.0->mealpy) (3.3.2)\n",
            "Requirement already satisfied: idna<4,>=2.5 in /usr/local/lib/python3.10/dist-packages (from requests>=2.27.0->opfunu>=1.0.0->mealpy) (3.7)\n",
            "Requirement already satisfied: urllib3<3,>=1.21.1 in /usr/local/lib/python3.10/dist-packages (from requests>=2.27.0->opfunu>=1.0.0->mealpy) (2.0.7)\n",
            "Requirement already satisfied: certifi>=2017.4.17 in /usr/local/lib/python3.10/dist-packages (from requests>=2.27.0->opfunu>=1.0.0->mealpy) (2024.2.2)\n",
            "Installing collected packages: opfunu, mealpy\n",
            "Successfully installed mealpy-3.0.1 opfunu-1.0.2\n"
          ]
        },
        {
          "output_type": "stream",
          "name": "stderr",
          "text": [
            "[nltk_data] Downloading package stopwords to /root/nltk_data...\n",
            "[nltk_data]   Package stopwords is already up-to-date!\n"
          ]
        }
      ],
      "source": [
        "!pip install mealpy\n",
        "import nltk\n",
        "from nltk.corpus import stopwords\n",
        "import csv\n",
        "from nltk.tag import pos_tag # for proper noun\n",
        "from nltk.tokenize import word_tokenize, sent_tokenize\n",
        "from nltk.stem import PorterStemmer\n",
        "from nltk.tokenize import sent_tokenize, word_tokenize\n",
        "from nltk.corpus import stopwords\n",
        "import pandas as pd\n",
        "import math\n",
        "import numpy as np\n",
        "import re\n",
        "from sklearn.feature_extraction.text import CountVectorizer\n",
        "from sklearn.metrics import roc_curve, roc_auc_score,auc\n",
        "nltk.download('stopwords')\n",
        "from mealpy.swarm_based.GWO import OriginalGWO\n",
        "import numpy as np\n",
        "import pandas as pd\n",
        "import seaborn as sns\n",
        "import tensorflow as tf\n",
        "import matplotlib.pyplot as plt\n",
        "from tensorflow.keras.optimizers import Adam\n",
        "import numpy as np\n",
        "import pandas as pd\n",
        "from sklearn.model_selection import train_test_split\n",
        "from sklearn.preprocessing import LabelEncoder\n",
        "from tensorflow import keras\n",
        "from tensorflow.keras.preprocessing.text import Tokenizer\n",
        "from tensorflow.keras.preprocessing.sequence import pad_sequences\n",
        "from tensorflow.keras.models import Sequential\n",
        "from tensorflow.keras.layers import Dense, Embedding, Flatten,LSTM"
      ]
    },
    {
      "cell_type": "code",
      "execution_count": 3,
      "id": "527527b9",
      "metadata": {
        "id": "527527b9"
      },
      "outputs": [],
      "source": [
        "stop_words = set(stopwords.words('english'))\n",
        "\n",
        "def preprocess(doc):\n",
        "  doc = doc.replace('@', 'at')\n",
        "  doc = doc.replace('\\'', ' ')\n",
        "  doc = doc.replace(',', ' ')\n",
        "  doc = doc.replace('$', 'dollar')\n",
        "  lst = []\n",
        "  for token in doc.split():\n",
        "    if token.lower() not in stop_words:\n",
        "      lst.append(token)\n",
        "  return ' '.join(lst)\n"
      ]
    },
    {
      "cell_type": "code",
      "execution_count": 4,
      "id": "de7db7b5",
      "metadata": {
        "colab": {
          "base_uri": "https://localhost:8080/"
        },
        "id": "de7db7b5",
        "outputId": "9c5e7ec5-2639-4c07-8550-0ab3ba6ddac4"
      },
      "outputs": [
        {
          "output_type": "execute_result",
          "data": {
            "text/plain": [
              "(551, 100)"
            ]
          },
          "metadata": {},
          "execution_count": 4
        }
      ],
      "source": [
        "# Sample text summarization dataset\n",
        "\n",
        "data = pd.read_excel(\"/content/Data.xlsx\")\n",
        "\n",
        "# Create a DataFrame from the dataset\n",
        "df = pd.DataFrame(data)\n",
        "\n",
        "# Encode labels\n",
        "label_encoder = LabelEncoder()\n",
        "df['label_encoded'] = label_encoder.fit_transform(df['Label'])\n",
        "\n",
        "# Pre-processing the sentences\n",
        "df['Sentences'] = df['Sentences'].apply(preprocess)\n",
        "\n",
        "# Split the data into features and labels\n",
        "X = df['Sentences']\n",
        "y = df['label_encoded']\n",
        "\n",
        "# Tokenize and pad sequences\n",
        "max_words = 1000  # Define the maximum number of words to consider\n",
        "max_sequence_length = 100  # Define the maximum sequence length\n",
        "\n",
        "tokenizer = Tokenizer(num_words=max_words)\n",
        "tokenizer.fit_on_texts(X)\n",
        "sequences = tokenizer.texts_to_sequences(X)\n",
        "X = pad_sequences(sequences, maxlen=max_sequence_length)\n",
        "\n",
        "\n",
        "# Split the data into training and testing sets\n",
        "X_train, X_test, y_train, y_test = train_test_split(X, y, test_size=0.2, random_state=42)\n",
        "X_train.shape"
      ]
    },
    {
      "cell_type": "markdown",
      "id": "515dc459",
      "metadata": {
        "id": "515dc459"
      },
      "source": [
        "With Embedding layer"
      ]
    },
    {
      "cell_type": "code",
      "execution_count": 5,
      "id": "a3e306f8",
      "metadata": {
        "id": "a3e306f8"
      },
      "outputs": [],
      "source": [
        "model = Sequential()\n",
        "model.add(Embedding(input_dim=1000, output_dim=128, input_length=X_train.shape[1]))\n",
        "model.add(LSTM(128))\n",
        "model.add(Dense(1, activation='softmax'))\n",
        "\n"
      ]
    },
    {
      "cell_type": "markdown",
      "id": "dd02e433",
      "metadata": {
        "id": "dd02e433"
      },
      "source": [
        "Without Embedding layer"
      ]
    },
    {
      "cell_type": "code",
      "execution_count": null,
      "id": "c349c431",
      "metadata": {
        "id": "c349c431"
      },
      "outputs": [],
      "source": [
        "#model = Sequential()\n",
        "#model.add(LSTM(128, input_shape=(X_train.shape[1], 1)))  # Note the input_shape\n",
        "#model.add(Dense(1, activation='sigmoid'))\n"
      ]
    },
    {
      "cell_type": "code",
      "execution_count": 6,
      "id": "c291ec4a",
      "metadata": {
        "colab": {
          "base_uri": "https://localhost:8080/"
        },
        "id": "c291ec4a",
        "outputId": "1842705f-b3c9-48ab-bb54-36ebcef81ceb"
      },
      "outputs": [
        {
          "output_type": "stream",
          "name": "stdout",
          "text": [
            "14/14 [==============================] - 5s 191ms/step - loss: 0.6337 - accuracy: 0.7409 - val_loss: 0.5681 - val_accuracy: 0.7387\n",
            "5/5 [==============================] - 0s 96ms/step - loss: 0.5314 - accuracy: 0.7681\n",
            "Test loss: 0.5314, Test accuracy: 0.7681\n"
          ]
        }
      ],
      "source": [
        "model.compile(optimizer='adam', loss='binary_crossentropy', metrics=['accuracy'])\n",
        "\n",
        "# Train the model\n",
        "model.fit(X_train, y_train, epochs=1, batch_size=32, validation_split=0.2)\n",
        "\n",
        "# Evaluate the model on the test set\n",
        "loss, accuracy = model.evaluate(X_test, y_test)\n",
        "print(f\"Test loss: {loss:.4f}, Test accuracy: {accuracy:.4f}\")"
      ]
    },
    {
      "cell_type": "code",
      "source": [
        "model.summary()"
      ],
      "metadata": {
        "colab": {
          "base_uri": "https://localhost:8080/"
        },
        "id": "3sCbKyohAqEc",
        "outputId": "5ca0e627-3ec4-420a-8bad-1fa9778c0b03"
      },
      "id": "3sCbKyohAqEc",
      "execution_count": 8,
      "outputs": [
        {
          "output_type": "stream",
          "name": "stdout",
          "text": [
            "Model: \"sequential\"\n",
            "_________________________________________________________________\n",
            " Layer (type)                Output Shape              Param #   \n",
            "=================================================================\n",
            " embedding (Embedding)       (None, 100, 128)          128000    \n",
            "                                                                 \n",
            " lstm (LSTM)                 (None, 128)               131584    \n",
            "                                                                 \n",
            " dense (Dense)               (None, 1)                 129       \n",
            "                                                                 \n",
            "=================================================================\n",
            "Total params: 259713 (1014.50 KB)\n",
            "Trainable params: 259713 (1014.50 KB)\n",
            "Non-trainable params: 0 (0.00 Byte)\n",
            "_________________________________________________________________\n"
          ]
        }
      ]
    },
    {
      "cell_type": "code",
      "execution_count": 7,
      "id": "29a25a8c",
      "metadata": {
        "colab": {
          "base_uri": "https://localhost:8080/",
          "height": 599
        },
        "id": "29a25a8c",
        "outputId": "1da8a83e-f75a-4359-8044-b02448a8d127"
      },
      "outputs": [
        {
          "output_type": "stream",
          "name": "stdout",
          "text": [
            "5/5 [==============================] - 1s 37ms/step\n",
            "ROC AUC: 0.46875\n"
          ]
        },
        {
          "output_type": "display_data",
          "data": {
            "text/plain": [
              "<Figure size 800x600 with 1 Axes>"
            ],
            "image/png": "[encoded data removed]"
          },
          "metadata": {}
        }
      ],
      "source": [
        "# Predict probabilities on the test data\n",
        "y_pred_prob = model.predict(X_test)\n",
        "\n",
        "# Calculate ROC curve and AUC\n",
        "fpr, tpr, thresholds = roc_curve(y_test, y_pred_prob)\n",
        "roc_auc = auc(fpr, tpr)\n",
        "\n",
        "print(\"ROC AUC:\", roc_auc)\n",
        "\n",
        "\n",
        "# Plot ROC curve\n",
        "plt.figure(figsize=(8, 6))\n",
        "plt.plot(fpr, tpr, color='darkorange', lw=2, label='ROC curve (area = %0.2f)' % roc_auc)\n",
        "plt.plot([0, 1], [0, 1], color='navy', lw=2, linestyle='--')\n",
        "plt.xlim([0.0, 1.0])\n",
        "plt.ylim([0.0, 1.05])\n",
        "plt.xlabel('False Positive Rate')\n",
        "plt.ylabel('True Positive Rate')\n",
        "plt.title('Receiver Operating Characteristic')\n",
        "plt.legend(loc='lower right')\n",
        "plt.show()\n",
        "\n"
      ]
    },
    {
      "cell_type": "code",
      "execution_count": 9,
      "id": "5fc38680",
      "metadata": {
        "id": "5fc38680",
        "colab": {
          "base_uri": "https://localhost:8080/"
        },
        "outputId": "831d0f82-d3f8-494d-d9a5-d9b8f7105742"
      },
      "outputs": [
        {
          "output_type": "stream",
          "name": "stdout",
          "text": [
            "Predicted Summary:\n",
            "                                                  Text  True Label  \\\n",
            "286  mohfw covid 19 vaccine portal national clinica...           1   \n",
            "655  trial figures provided two pfizer effective pi...           1   \n",
            "257  mohfw central teams chhattisgarh uttar pradesh...           1   \n",
            "336  prime minister high level meeting chief minist...           1   \n",
            "318  ministry culture issues re opening art prevent...           1   \n",
            "..                                                 ...         ...   \n",
            "333  minister health called health make post covid ...           1   \n",
            "506  potential virus areas body might help wide sym...           1   \n",
            "24   china countries demonstrating spread virus slo...           1   \n",
            "158  november panel present interim report world he...           0   \n",
            "517  policy administration implement science based ...           0   \n",
            "\n",
            "     Predicted Label  Probability  \n",
            "286                1          1.0  \n",
            "655                1          1.0  \n",
            "257                1          1.0  \n",
            "336                1          1.0  \n",
            "318                1          1.0  \n",
            "..               ...          ...  \n",
            "333                1          1.0  \n",
            "506                1          1.0  \n",
            "24                 1          1.0  \n",
            "158                1          1.0  \n",
            "517                1          1.0  \n",
            "\n",
            "[138 rows x 4 columns]\n"
          ]
        }
      ],
      "source": [
        "# Convert predicted probabilities to binary predictions\n",
        "y_pred_binary = (y_pred_prob > 0.5).astype(int)\n",
        "\n",
        "# Generate predicted summary\n",
        "predicted_summary = pd.DataFrame({'Text': tokenizer.sequences_to_texts(X_test),\n",
        "                                  'True Label': y_test,\n",
        "                                  'Predicted Label': y_pred_binary.flatten(),\n",
        "                                  'Probability': y_pred_prob.flatten()})\n",
        "\n",
        "print(\"Predicted Summary:\")\n",
        "print(predicted_summary)\n"
      ]
    }
  ],
  "metadata": {
    "kernelspec": {
      "display_name": "Python 3 (ipykernel)",
      "language": "python",
      "name": "python3"
    },
    "language_info": {
      "codemirror_mode": {
        "name": "ipython",
        "version": 3
      },
      "file_extension": ".py",
      "mimetype": "text/x-python",
      "name": "python",
      "nbconvert_exporter": "python",
      "pygments_lexer": "ipython3",
      "version": "3.7.16"
    },
    "colab": {
      "provenance": [],
      "include_colab_link": true
    }
  },
  "nbformat": 4,
  "nbformat_minor": 5
}