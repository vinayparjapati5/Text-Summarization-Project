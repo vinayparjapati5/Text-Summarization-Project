{
  "cells": [
    {
      "cell_type": "markdown",
      "metadata": {
        "id": "view-in-github",
        "colab_type": "text"
      },
      "source": [
        "<a href=\"https://colab.research.google.com/github/vinayparjapati5/Text-Summarization-Project/blob/main/Text_LSTM_%26_GRU.ipynb\" target=\"_parent\"><img src=\"https://colab.research.google.com/assets/colab-badge.svg\" alt=\"Open In Colab\"/></a>"
      ]
    },
    {
      "cell_type": "markdown",
      "id": "949c00bc",
      "metadata": {
        "id": "949c00bc"
      },
      "source": [
        "##Text Summarization using LSTM"
      ]
    },
    {
      "cell_type": "markdown",
      "source": [
        "---\n",
        "##1. Installing Libraries\n",
        "---"
      ],
      "metadata": {
        "id": "FpiluRbZnOIY"
      },
      "id": "FpiluRbZnOIY"
    },
    {
      "cell_type": "code",
      "execution_count": 3,
      "id": "2848e572",
      "metadata": {
        "colab": {
          "base_uri": "https://localhost:8080/"
        },
        "id": "2848e572",
        "outputId": "a19a8047-764a-4a95-c0f9-8e3a6572b0ce"
      },
      "outputs": [
        {
          "output_type": "stream",
          "name": "stdout",
          "text": [
            "Requirement already satisfied: mealpy in /usr/local/lib/python3.10/dist-packages (3.0.1)\n",
            "Requirement already satisfied: numpy>=1.17.5 in /usr/local/lib/python3.10/dist-packages (from mealpy) (1.25.2)\n",
            "Requirement already satisfied: matplotlib>=3.3.0 in /usr/local/lib/python3.10/dist-packages (from mealpy) (3.7.1)\n",
            "Requirement already satisfied: scipy>=1.7.1 in /usr/local/lib/python3.10/dist-packages (from mealpy) (1.11.4)\n",
            "Requirement already satisfied: pandas>=1.2.0 in /usr/local/lib/python3.10/dist-packages (from mealpy) (2.0.3)\n",
            "Requirement already satisfied: opfunu>=1.0.0 in /usr/local/lib/python3.10/dist-packages (from mealpy) (1.0.4)\n",
            "Requirement already satisfied: contourpy>=1.0.1 in /usr/local/lib/python3.10/dist-packages (from matplotlib>=3.3.0->mealpy) (1.2.1)\n",
            "Requirement already satisfied: cycler>=0.10 in /usr/local/lib/python3.10/dist-packages (from matplotlib>=3.3.0->mealpy) (0.12.1)\n",
            "Requirement already satisfied: fonttools>=4.22.0 in /usr/local/lib/python3.10/dist-packages (from matplotlib>=3.3.0->mealpy) (4.53.0)\n",
            "Requirement already satisfied: kiwisolver>=1.0.1 in /usr/local/lib/python3.10/dist-packages (from matplotlib>=3.3.0->mealpy) (1.4.5)\n",
            "Requirement already satisfied: packaging>=20.0 in /usr/local/lib/python3.10/dist-packages (from matplotlib>=3.3.0->mealpy) (24.1)\n",
            "Requirement already satisfied: pillow>=6.2.0 in /usr/local/lib/python3.10/dist-packages (from matplotlib>=3.3.0->mealpy) (9.4.0)\n",
            "Requirement already satisfied: pyparsing>=2.3.1 in /usr/local/lib/python3.10/dist-packages (from matplotlib>=3.3.0->mealpy) (3.1.2)\n",
            "Requirement already satisfied: python-dateutil>=2.7 in /usr/local/lib/python3.10/dist-packages (from matplotlib>=3.3.0->mealpy) (2.8.2)\n",
            "Requirement already satisfied: requests>=2.27.0 in /usr/local/lib/python3.10/dist-packages (from opfunu>=1.0.0->mealpy) (2.31.0)\n",
            "Requirement already satisfied: pytz>=2020.1 in /usr/local/lib/python3.10/dist-packages (from pandas>=1.2.0->mealpy) (2023.4)\n",
            "Requirement already satisfied: tzdata>=2022.1 in /usr/local/lib/python3.10/dist-packages (from pandas>=1.2.0->mealpy) (2024.1)\n",
            "Requirement already satisfied: six>=1.5 in /usr/local/lib/python3.10/dist-packages (from python-dateutil>=2.7->matplotlib>=3.3.0->mealpy) (1.16.0)\n",
            "Requirement already satisfied: charset-normalizer<4,>=2 in /usr/local/lib/python3.10/dist-packages (from requests>=2.27.0->opfunu>=1.0.0->mealpy) (3.3.2)\n",
            "Requirement already satisfied: idna<4,>=2.5 in /usr/local/lib/python3.10/dist-packages (from requests>=2.27.0->opfunu>=1.0.0->mealpy) (3.7)\n",
            "Requirement already satisfied: urllib3<3,>=1.21.1 in /usr/local/lib/python3.10/dist-packages (from requests>=2.27.0->opfunu>=1.0.0->mealpy) (2.0.7)\n",
            "Requirement already satisfied: certifi>=2017.4.17 in /usr/local/lib/python3.10/dist-packages (from requests>=2.27.0->opfunu>=1.0.0->mealpy) (2024.6.2)\n"
          ]
        },
        {
          "output_type": "stream",
          "name": "stderr",
          "text": [
            "[nltk_data] Downloading package stopwords to /root/nltk_data...\n",
            "[nltk_data]   Package stopwords is already up-to-date!\n"
          ]
        }
      ],
      "source": [
        "!pip install mealpy\n",
        "import nltk\n",
        "from nltk.corpus import stopwords\n",
        "import csv\n",
        "from nltk.tag import pos_tag # for proper noun\n",
        "from nltk.tokenize import word_tokenize, sent_tokenize\n",
        "from nltk.stem import PorterStemmer\n",
        "from nltk.tokenize import sent_tokenize, word_tokenize\n",
        "from nltk.corpus import stopwords\n",
        "import pandas as pd\n",
        "import math\n",
        "import numpy as np\n",
        "import re\n",
        "from sklearn.feature_extraction.text import CountVectorizer\n",
        "from sklearn.metrics import roc_curve, roc_auc_score,auc\n",
        "nltk.download('stopwords')\n",
        "from mealpy.swarm_based.GWO import OriginalGWO\n",
        "import numpy as np\n",
        "import pandas as pd\n",
        "import seaborn as sns\n",
        "import tensorflow as tf\n",
        "import matplotlib.pyplot as plt\n",
        "from tensorflow.keras.optimizers import Adam\n",
        "import numpy as np\n",
        "import pandas as pd\n",
        "from sklearn.model_selection import train_test_split\n",
        "from sklearn.preprocessing import LabelEncoder\n",
        "from tensorflow import keras\n",
        "from tensorflow.keras.preprocessing.text import Tokenizer\n",
        "from tensorflow.keras.preprocessing.sequence import pad_sequences\n",
        "from tensorflow.keras.models import Sequential\n",
        "from tensorflow.keras.layers import Dense, Embedding, Flatten,LSTM,GRU"
      ]
    },
    {
      "cell_type": "markdown",
      "source": [
        "---\n",
        "##2. Data Preprocessing\n",
        "---"
      ],
      "metadata": {
        "id": "vA5_OHX3nW7L"
      },
      "id": "vA5_OHX3nW7L"
    },
    {
      "cell_type": "code",
      "execution_count": 2,
      "id": "527527b9",
      "metadata": {
        "id": "527527b9"
      },
      "outputs": [],
      "source": [
        "stop_words = set(stopwords.words('english'))\n",
        "\n",
        "def preprocess(doc):\n",
        "  doc = doc.replace('@', 'at')\n",
        "  doc = doc.replace('\\'', ' ')\n",
        "  doc = doc.replace(',', ' ')\n",
        "  doc = doc.replace('$', 'dollar')\n",
        "  lst = []\n",
        "  for token in doc.split():\n",
        "    if token.lower() not in stop_words:\n",
        "      lst.append(token)\n",
        "  return ' '.join(lst)\n"
      ]
    },
    {
      "cell_type": "code",
      "execution_count": 4,
      "id": "de7db7b5",
      "metadata": {
        "colab": {
          "base_uri": "https://localhost:8080/"
        },
        "id": "de7db7b5",
        "outputId": "8a1a7bba-3e1f-4988-a4e7-54cc05d30dbd"
      },
      "outputs": [
        {
          "output_type": "execute_result",
          "data": {
            "text/plain": [
              "(551, 100)"
            ]
          },
          "metadata": {},
          "execution_count": 4
        }
      ],
      "source": [
        "# text summarization dataset\n",
        "\n",
        "data = pd.read_excel(\"/content/Data.xlsx\")\n",
        "\n",
        "# Create a DataFrame from the dataset\n",
        "df = pd.DataFrame(data)\n",
        "\n",
        "# Encode labels\n",
        "label_encoder = LabelEncoder()\n",
        "df['label_encoded'] = label_encoder.fit_transform(df['Label'])\n",
        "\n",
        "# Pre-processing the sentences\n",
        "df['Sentences'] = df['Sentences'].apply(preprocess)\n",
        "\n",
        "# Split the data into features and labels\n",
        "X = df['Sentences']\n",
        "y = df['label_encoded']\n",
        "\n",
        "# Tokenize and pad sequences\n",
        "max_words = 1000  # Define the maximum number of words to consider\n",
        "max_sequence_length = 100  # Define the maximum sequence length\n",
        "\n",
        "tokenizer = Tokenizer(num_words=max_words)\n",
        "tokenizer.fit_on_texts(X)\n",
        "sequences = tokenizer.texts_to_sequences(X)\n",
        "X = pad_sequences(sequences, maxlen=max_sequence_length)\n",
        "\n",
        "\n",
        "# Split the data into training and testing sets\n",
        "X_train, X_test, y_train, y_test = train_test_split(X, y, test_size=0.2, random_state=42)\n",
        "X_train.shape"
      ]
    },
    {
      "cell_type": "markdown",
      "id": "515dc459",
      "metadata": {
        "id": "515dc459"
      },
      "source": [
        "With Embedding layer"
      ]
    },
    {
      "cell_type": "code",
      "execution_count": null,
      "id": "a3e306f8",
      "metadata": {
        "id": "a3e306f8"
      },
      "outputs": [],
      "source": [
        "#model = Sequential()\n",
        "#model.add(Embedding(input_dim=1000, output_dim=128, input_length=X_train.shape[1]))\n",
        "#model.add(LSTM(128))\n",
        "#model.add(Dense(1, activation='softmax'))\n",
        "\n"
      ]
    },
    {
      "cell_type": "markdown",
      "id": "dd02e433",
      "metadata": {
        "id": "dd02e433"
      },
      "source": [
        "Without Embedding layer"
      ]
    },
    {
      "cell_type": "code",
      "execution_count": 5,
      "id": "c349c431",
      "metadata": {
        "id": "c349c431"
      },
      "outputs": [],
      "source": [
        "model = Sequential()\n",
        "model.add(LSTM(128, input_shape=(X_train.shape[1], 1)))  # Note the input_shape\n",
        "model.add(Dense(1, activation='sigmoid'))\n"
      ]
    },
    {
      "cell_type": "markdown",
      "source": [
        "---\n",
        "##3. Model Training Using LSTM\n",
        "---"
      ],
      "metadata": {
        "id": "_-8U9KnJxIW_"
      },
      "id": "_-8U9KnJxIW_"
    },
    {
      "cell_type": "code",
      "execution_count": 7,
      "id": "c291ec4a",
      "metadata": {
        "colab": {
          "base_uri": "https://localhost:8080/"
        },
        "id": "c291ec4a",
        "outputId": "2b605f63-34b3-4e20-93fa-2897ba40b4d7"
      },
      "outputs": [
        {
          "output_type": "stream",
          "name": "stdout",
          "text": [
            "Epoch 1/30\n",
            "14/14 [==============================] - 5s 163ms/step - loss: 0.4987 - accuracy: 0.7523 - val_loss: 0.5076 - val_accuracy: 0.7568\n",
            "Epoch 2/30\n",
            "14/14 [==============================] - 2s 122ms/step - loss: 0.4591 - accuracy: 0.7750 - val_loss: 0.4938 - val_accuracy: 0.7658\n",
            "Epoch 3/30\n",
            "14/14 [==============================] - 2s 119ms/step - loss: 0.4429 - accuracy: 0.7795 - val_loss: 0.5025 - val_accuracy: 0.7568\n",
            "Epoch 4/30\n",
            "14/14 [==============================] - 2s 122ms/step - loss: 0.4371 - accuracy: 0.7977 - val_loss: 0.4895 - val_accuracy: 0.7838\n",
            "Epoch 5/30\n",
            "14/14 [==============================] - 3s 191ms/step - loss: 0.4333 - accuracy: 0.7795 - val_loss: 0.4873 - val_accuracy: 0.7477\n",
            "Epoch 6/30\n",
            "14/14 [==============================] - 3s 198ms/step - loss: 0.4284 - accuracy: 0.7841 - val_loss: 0.4929 - val_accuracy: 0.7658\n",
            "Epoch 7/30\n",
            "14/14 [==============================] - 2s 117ms/step - loss: 0.4220 - accuracy: 0.7795 - val_loss: 0.4853 - val_accuracy: 0.7477\n",
            "Epoch 8/30\n",
            "14/14 [==============================] - 2s 132ms/step - loss: 0.4169 - accuracy: 0.8045 - val_loss: 0.4867 - val_accuracy: 0.7568\n",
            "Epoch 9/30\n",
            "14/14 [==============================] - 2s 131ms/step - loss: 0.4128 - accuracy: 0.7886 - val_loss: 0.4876 - val_accuracy: 0.7658\n",
            "Epoch 10/30\n",
            "14/14 [==============================] - 2s 121ms/step - loss: 0.4087 - accuracy: 0.8000 - val_loss: 0.4807 - val_accuracy: 0.7387\n",
            "Epoch 11/30\n",
            "14/14 [==============================] - 2s 120ms/step - loss: 0.4052 - accuracy: 0.7909 - val_loss: 0.4809 - val_accuracy: 0.7568\n",
            "Epoch 12/30\n",
            "14/14 [==============================] - 2s 174ms/step - loss: 0.3999 - accuracy: 0.8023 - val_loss: 0.4896 - val_accuracy: 0.7297\n",
            "Epoch 13/30\n",
            "14/14 [==============================] - 3s 220ms/step - loss: 0.3986 - accuracy: 0.8000 - val_loss: 0.4788 - val_accuracy: 0.7568\n",
            "Epoch 14/30\n",
            "14/14 [==============================] - 2s 124ms/step - loss: 0.3906 - accuracy: 0.8000 - val_loss: 0.4815 - val_accuracy: 0.7568\n",
            "Epoch 15/30\n",
            "14/14 [==============================] - 2s 134ms/step - loss: 0.3884 - accuracy: 0.8000 - val_loss: 0.4828 - val_accuracy: 0.7568\n",
            "Epoch 16/30\n",
            "14/14 [==============================] - 2s 122ms/step - loss: 0.3855 - accuracy: 0.7955 - val_loss: 0.4824 - val_accuracy: 0.7207\n",
            "Epoch 17/30\n",
            "14/14 [==============================] - 2s 135ms/step - loss: 0.3781 - accuracy: 0.8114 - val_loss: 0.4845 - val_accuracy: 0.7297\n",
            "Epoch 18/30\n",
            "14/14 [==============================] - 2s 126ms/step - loss: 0.3805 - accuracy: 0.8045 - val_loss: 0.4893 - val_accuracy: 0.7477\n",
            "Epoch 19/30\n",
            "14/14 [==============================] - 3s 198ms/step - loss: 0.3709 - accuracy: 0.8205 - val_loss: 0.4844 - val_accuracy: 0.7477\n",
            "Epoch 20/30\n",
            "14/14 [==============================] - 3s 209ms/step - loss: 0.3691 - accuracy: 0.8250 - val_loss: 0.4920 - val_accuracy: 0.7477\n",
            "Epoch 21/30\n",
            "14/14 [==============================] - 2s 173ms/step - loss: 0.3659 - accuracy: 0.8341 - val_loss: 0.4845 - val_accuracy: 0.7387\n",
            "Epoch 22/30\n",
            "14/14 [==============================] - 4s 285ms/step - loss: 0.3643 - accuracy: 0.8273 - val_loss: 0.4871 - val_accuracy: 0.7477\n",
            "Epoch 23/30\n",
            "14/14 [==============================] - 4s 271ms/step - loss: 0.3614 - accuracy: 0.8068 - val_loss: 0.5519 - val_accuracy: 0.7477\n",
            "Epoch 24/30\n",
            "14/14 [==============================] - 4s 278ms/step - loss: 0.3777 - accuracy: 0.7977 - val_loss: 0.4916 - val_accuracy: 0.7477\n",
            "Epoch 25/30\n",
            "14/14 [==============================] - 2s 152ms/step - loss: 0.3602 - accuracy: 0.8250 - val_loss: 0.4982 - val_accuracy: 0.7297\n",
            "Epoch 26/30\n",
            "14/14 [==============================] - 2s 180ms/step - loss: 0.3599 - accuracy: 0.8205 - val_loss: 0.5291 - val_accuracy: 0.7568\n",
            "Epoch 27/30\n",
            "14/14 [==============================] - 2s 156ms/step - loss: 0.3466 - accuracy: 0.8295 - val_loss: 0.4930 - val_accuracy: 0.7387\n",
            "Epoch 28/30\n",
            "14/14 [==============================] - 2s 127ms/step - loss: 0.3520 - accuracy: 0.8182 - val_loss: 0.4857 - val_accuracy: 0.7477\n",
            "Epoch 29/30\n",
            "14/14 [==============================] - 2s 163ms/step - loss: 0.3445 - accuracy: 0.8295 - val_loss: 0.4994 - val_accuracy: 0.7387\n",
            "Epoch 30/30\n",
            "14/14 [==============================] - 3s 222ms/step - loss: 0.3323 - accuracy: 0.8386 - val_loss: 0.5001 - val_accuracy: 0.7387\n",
            "5/5 [==============================] - 0s 39ms/step - loss: 0.5582 - accuracy: 0.7029\n",
            "Test loss: 0.5582, Test accuracy: 0.7029\n"
          ]
        }
      ],
      "source": [
        "\n",
        "model.compile(optimizer='adam', loss='binary_crossentropy', metrics=['accuracy'])\n",
        "\n",
        "# Train the model\n",
        "model.fit(X_train, y_train, epochs=30, batch_size=32, validation_split=0.2)\n",
        "\n",
        "# Evaluate the model on the test set\n",
        "loss, accuracy = model.evaluate(X_test, y_test)\n",
        "print(f\"Test loss: {loss:.4f}, Test accuracy: {accuracy:.4f}\")"
      ]
    },
    {
      "cell_type": "code",
      "execution_count": 8,
      "id": "3sCbKyohAqEc",
      "metadata": {
        "colab": {
          "base_uri": "https://localhost:8080/"
        },
        "id": "3sCbKyohAqEc",
        "outputId": "d3b2da61-b338-44d2-f388-c056a2082732"
      },
      "outputs": [
        {
          "output_type": "stream",
          "name": "stdout",
          "text": [
            "Model: \"sequential\"\n",
            "_________________________________________________________________\n",
            " Layer (type)                Output Shape              Param #   \n",
            "=================================================================\n",
            " lstm (LSTM)                 (None, 128)               66560     \n",
            "                                                                 \n",
            " dense (Dense)               (None, 1)                 129       \n",
            "                                                                 \n",
            "=================================================================\n",
            "Total params: 66689 (260.50 KB)\n",
            "Trainable params: 66689 (260.50 KB)\n",
            "Non-trainable params: 0 (0.00 Byte)\n",
            "_________________________________________________________________\n"
          ]
        }
      ],
      "source": [
        "model.summary()"
      ]
    },
    {
      "cell_type": "markdown",
      "source": [
        "---\n",
        "##4. Evaluation & Inference\n",
        "---"
      ],
      "metadata": {
        "id": "CuxKfs8rxsvW"
      },
      "id": "CuxKfs8rxsvW"
    },
    {
      "cell_type": "code",
      "execution_count": 9,
      "id": "29a25a8c",
      "metadata": {
        "colab": {
          "base_uri": "https://localhost:8080/",
          "height": 599
        },
        "id": "29a25a8c",
        "outputId": "4f7fed43-c8a9-4ffb-a471-830dc3e0660d"
      },
      "outputs": [
        {
          "output_type": "stream",
          "name": "stdout",
          "text": [
            "5/5 [==============================] - 2s 74ms/step\n",
            "ROC AUC: 0.7284787735849058\n"
          ]
        },
        {
          "output_type": "display_data",
          "data": {
            "text/plain": [
              "<Figure size 800x600 with 1 Axes>"
            ],
            "image/png": "[encoded data removed]"
          },
          "metadata": {}
        }
      ],
      "source": [
        "# Predict probabilities on the test data\n",
        "y_pred_prob = model.predict(X_test)\n",
        "\n",
        "# Calculate ROC curve and AUC\n",
        "fpr, tpr, thresholds = roc_curve(y_test, y_pred_prob)\n",
        "roc_auc = auc(fpr, tpr)\n",
        "\n",
        "print(\"ROC AUC:\", roc_auc)\n",
        "\n",
        "\n",
        "# Plot ROC curve\n",
        "plt.figure(figsize=(8, 6))\n",
        "plt.plot(fpr, tpr, color='darkorange', lw=2, label='ROC curve (area = %0.2f)' % roc_auc)\n",
        "plt.plot([0, 1], [0, 1], color='navy', lw=2, linestyle='--')\n",
        "plt.xlim([0.0, 1.0])\n",
        "plt.ylim([0.0, 1.05])\n",
        "plt.xlabel('False Positive Rate')\n",
        "plt.ylabel('True Positive Rate')\n",
        "plt.title('Receiver Operating Characteristic')\n",
        "plt.legend(loc='lower right')\n",
        "plt.show()\n",
        "\n"
      ]
    },
    {
      "cell_type": "code",
      "execution_count": 10,
      "id": "5fc38680",
      "metadata": {
        "colab": {
          "base_uri": "https://localhost:8080/"
        },
        "id": "5fc38680",
        "outputId": "021838ec-cd32-4946-eff5-6626a29abf8b"
      },
      "outputs": [
        {
          "output_type": "stream",
          "name": "stdout",
          "text": [
            "Predicted Summary:\n",
            "                                                  Text  True Label  \\\n",
            "286  mohfw covid 19 vaccine portal national clinica...           1   \n",
            "655  trial figures provided two pfizer effective pi...           1   \n",
            "257  mohfw central teams chhattisgarh uttar pradesh...           1   \n",
            "336  prime minister high level meeting chief minist...           1   \n",
            "318  ministry culture issues re opening art prevent...           1   \n",
            "..                                                 ...         ...   \n",
            "333  minister health called health make post covid ...           1   \n",
            "506  potential virus areas body might help wide sym...           1   \n",
            "24   china countries demonstrating spread virus slo...           1   \n",
            "158  november panel present interim report world he...           0   \n",
            "517  policy administration implement science based ...           0   \n",
            "\n",
            "     Predicted Label  Probability  \n",
            "286                1     0.999634  \n",
            "655                0     0.151919  \n",
            "257                1     0.968009  \n",
            "336                1     0.988625  \n",
            "318                0     0.380808  \n",
            "..               ...          ...  \n",
            "333                1     0.992152  \n",
            "506                1     0.943988  \n",
            "24                 1     0.605214  \n",
            "158                1     0.797629  \n",
            "517                1     0.796613  \n",
            "\n",
            "[138 rows x 4 columns]\n"
          ]
        }
      ],
      "source": [
        "# Convert predicted probabilities to binary predictions\n",
        "y_pred_binary = (y_pred_prob > 0.5).astype(int)\n",
        "\n",
        "# Generate predicted summary\n",
        "predicted_summary = pd.DataFrame({'Text': tokenizer.sequences_to_texts(X_test),\n",
        "                                  'True Label': y_test,\n",
        "                                  'Predicted Label': y_pred_binary.flatten(),\n",
        "                                  'Probability': y_pred_prob.flatten()})\n",
        "\n",
        "print(\"Predicted Summary:\")\n",
        "print(predicted_summary)\n"
      ]
    },
    {
      "cell_type": "markdown",
      "source": [
        "---\n",
        "## Model Training Using GRU\n",
        "---"
      ],
      "metadata": {
        "id": "FR1pFRcSxlV0"
      },
      "id": "FR1pFRcSxlV0"
    },
    {
      "cell_type": "code",
      "source": [
        "model2 = Sequential()\n",
        "model2.add(GRU(128, input_shape=(X_train.shape[1], 1)))  # Note the input_shape\n",
        "model2.add(Dense(1, activation='sigmoid'))"
      ],
      "metadata": {
        "id": "9Q220G_bxklZ"
      },
      "id": "9Q220G_bxklZ",
      "execution_count": 13,
      "outputs": []
    },
    {
      "cell_type": "code",
      "source": [
        "\n",
        "model2.compile(optimizer='adam', loss='binary_crossentropy', metrics=['accuracy'])\n",
        "\n",
        "# Train the model\n",
        "model2.fit(X_train, y_train, epochs=30, batch_size=32, validation_split=0.2)\n",
        "\n",
        "# Evaluate the model on the test set\n",
        "loss, accuracy = model2.evaluate(X_test, y_test)\n",
        "print(f\"Test loss: {loss:.4f}, Test accuracy: {accuracy:.4f}\")"
      ],
      "metadata": {
        "colab": {
          "base_uri": "https://localhost:8080/"
        },
        "id": "ud-0ly40x8ts",
        "outputId": "855d1be6-49bb-4179-9411-f98ed0f587b5"
      },
      "id": "ud-0ly40x8ts",
      "execution_count": 14,
      "outputs": [
        {
          "output_type": "stream",
          "name": "stdout",
          "text": [
            "Epoch 1/30\n",
            "14/14 [==============================] - 4s 130ms/step - loss: 0.5329 - accuracy: 0.7205 - val_loss: 0.5406 - val_accuracy: 0.7477\n",
            "Epoch 2/30\n",
            "14/14 [==============================] - 1s 91ms/step - loss: 0.4703 - accuracy: 0.7591 - val_loss: 0.5043 - val_accuracy: 0.7748\n",
            "Epoch 3/30\n",
            "14/14 [==============================] - 1s 95ms/step - loss: 0.4484 - accuracy: 0.7932 - val_loss: 0.4975 - val_accuracy: 0.7568\n",
            "Epoch 4/30\n",
            "14/14 [==============================] - 1s 94ms/step - loss: 0.4458 - accuracy: 0.7955 - val_loss: 0.4951 - val_accuracy: 0.8018\n",
            "Epoch 5/30\n",
            "14/14 [==============================] - 2s 134ms/step - loss: 0.4381 - accuracy: 0.8000 - val_loss: 0.4949 - val_accuracy: 0.7658\n",
            "Epoch 6/30\n",
            "14/14 [==============================] - 2s 157ms/step - loss: 0.4287 - accuracy: 0.7932 - val_loss: 0.4888 - val_accuracy: 0.7658\n",
            "Epoch 7/30\n",
            "14/14 [==============================] - 2s 105ms/step - loss: 0.4238 - accuracy: 0.7955 - val_loss: 0.4990 - val_accuracy: 0.7568\n",
            "Epoch 8/30\n",
            "14/14 [==============================] - 1s 91ms/step - loss: 0.4158 - accuracy: 0.7909 - val_loss: 0.5007 - val_accuracy: 0.7568\n",
            "Epoch 9/30\n",
            "14/14 [==============================] - 1s 93ms/step - loss: 0.4147 - accuracy: 0.7955 - val_loss: 0.5154 - val_accuracy: 0.7477\n",
            "Epoch 10/30\n",
            "14/14 [==============================] - 1s 96ms/step - loss: 0.4066 - accuracy: 0.8000 - val_loss: 0.4960 - val_accuracy: 0.7477\n",
            "Epoch 11/30\n",
            "14/14 [==============================] - 1s 92ms/step - loss: 0.4149 - accuracy: 0.8045 - val_loss: 0.4980 - val_accuracy: 0.7658\n",
            "Epoch 12/30\n",
            "14/14 [==============================] - 1s 91ms/step - loss: 0.4144 - accuracy: 0.7955 - val_loss: 0.5301 - val_accuracy: 0.7568\n",
            "Epoch 13/30\n",
            "14/14 [==============================] - 1s 96ms/step - loss: 0.4050 - accuracy: 0.8045 - val_loss: 0.5031 - val_accuracy: 0.7387\n",
            "Epoch 14/30\n",
            "14/14 [==============================] - 1s 109ms/step - loss: 0.3975 - accuracy: 0.7977 - val_loss: 0.4994 - val_accuracy: 0.7477\n",
            "Epoch 15/30\n",
            "14/14 [==============================] - 3s 235ms/step - loss: 0.3944 - accuracy: 0.7909 - val_loss: 0.5017 - val_accuracy: 0.7387\n",
            "Epoch 16/30\n",
            "14/14 [==============================] - 2s 116ms/step - loss: 0.3867 - accuracy: 0.8136 - val_loss: 0.5216 - val_accuracy: 0.7658\n",
            "Epoch 17/30\n",
            "14/14 [==============================] - 1s 92ms/step - loss: 0.3904 - accuracy: 0.8023 - val_loss: 0.5039 - val_accuracy: 0.7387\n",
            "Epoch 18/30\n",
            "14/14 [==============================] - 1s 95ms/step - loss: 0.3813 - accuracy: 0.8045 - val_loss: 0.5089 - val_accuracy: 0.7477\n",
            "Epoch 19/30\n",
            "14/14 [==============================] - 1s 96ms/step - loss: 0.3803 - accuracy: 0.8068 - val_loss: 0.5086 - val_accuracy: 0.7117\n",
            "Epoch 20/30\n",
            "14/14 [==============================] - 1s 94ms/step - loss: 0.3938 - accuracy: 0.8114 - val_loss: 0.5201 - val_accuracy: 0.7387\n",
            "Epoch 21/30\n",
            "14/14 [==============================] - 1s 91ms/step - loss: 0.3923 - accuracy: 0.8159 - val_loss: 0.5186 - val_accuracy: 0.7477\n",
            "Epoch 22/30\n",
            "14/14 [==============================] - 1s 93ms/step - loss: 0.3781 - accuracy: 0.8000 - val_loss: 0.5070 - val_accuracy: 0.7568\n",
            "Epoch 23/30\n",
            "14/14 [==============================] - 1s 99ms/step - loss: 0.3723 - accuracy: 0.8205 - val_loss: 0.5153 - val_accuracy: 0.7477\n",
            "Epoch 24/30\n",
            "14/14 [==============================] - 2s 152ms/step - loss: 0.3662 - accuracy: 0.8250 - val_loss: 0.5180 - val_accuracy: 0.7387\n",
            "Epoch 25/30\n",
            "14/14 [==============================] - 2s 126ms/step - loss: 0.3645 - accuracy: 0.8091 - val_loss: 0.5188 - val_accuracy: 0.7297\n",
            "Epoch 26/30\n",
            "14/14 [==============================] - 1s 93ms/step - loss: 0.3756 - accuracy: 0.8182 - val_loss: 0.5246 - val_accuracy: 0.7477\n",
            "Epoch 27/30\n",
            "14/14 [==============================] - 1s 94ms/step - loss: 0.3623 - accuracy: 0.8341 - val_loss: 0.5197 - val_accuracy: 0.7387\n",
            "Epoch 28/30\n",
            "14/14 [==============================] - 1s 96ms/step - loss: 0.3613 - accuracy: 0.8159 - val_loss: 0.5281 - val_accuracy: 0.7477\n",
            "Epoch 29/30\n",
            "14/14 [==============================] - 1s 98ms/step - loss: 0.3544 - accuracy: 0.8227 - val_loss: 0.5294 - val_accuracy: 0.7568\n",
            "Epoch 30/30\n",
            "14/14 [==============================] - 1s 103ms/step - loss: 0.3522 - accuracy: 0.8295 - val_loss: 0.5298 - val_accuracy: 0.7568\n",
            "5/5 [==============================] - 0s 24ms/step - loss: 0.5131 - accuracy: 0.7464\n",
            "Test loss: 0.5131, Test accuracy: 0.7464\n"
          ]
        }
      ]
    },
    {
      "cell_type": "code",
      "source": [
        "model2.summary()"
      ],
      "metadata": {
        "colab": {
          "base_uri": "https://localhost:8080/"
        },
        "id": "-FFlV1Z9zby7",
        "outputId": "bf21b6a9-bc64-450e-9e5f-06a29a42ae18"
      },
      "id": "-FFlV1Z9zby7",
      "execution_count": 15,
      "outputs": [
        {
          "output_type": "stream",
          "name": "stdout",
          "text": [
            "Model: \"sequential_2\"\n",
            "_________________________________________________________________\n",
            " Layer (type)                Output Shape              Param #   \n",
            "=================================================================\n",
            " gru_1 (GRU)                 (None, 128)               50304     \n",
            "                                                                 \n",
            " dense_2 (Dense)             (None, 1)                 129       \n",
            "                                                                 \n",
            "=================================================================\n",
            "Total params: 50433 (197.00 KB)\n",
            "Trainable params: 50433 (197.00 KB)\n",
            "Non-trainable params: 0 (0.00 Byte)\n",
            "_________________________________________________________________\n"
          ]
        }
      ]
    },
    {
      "cell_type": "code",
      "source": [
        "# Predict probabilities on the test data\n",
        "y_pred_prob = model2.predict(X_test)\n",
        "\n",
        "# Calculate ROC curve and AUC\n",
        "fpr, tpr, thresholds = roc_curve(y_test, y_pred_prob)\n",
        "roc_auc = auc(fpr, tpr)\n",
        "\n",
        "print(\"ROC AUC:\", roc_auc)\n",
        "\n",
        "\n",
        "# Plot ROC curve\n",
        "plt.figure(figsize=(8, 6))\n",
        "plt.plot(fpr, tpr, color='darkorange', lw=2, label='ROC curve (area = %0.2f)' % roc_auc)\n",
        "plt.plot([0, 1], [0, 1], color='navy', lw=2, linestyle='--')\n",
        "plt.xlim([0.0, 1.0])\n",
        "plt.ylim([0.0, 1.05])\n",
        "plt.xlabel('False Positive Rate')\n",
        "plt.ylabel('True Positive Rate')\n",
        "plt.title('Receiver Operating Characteristic Using GRU')\n",
        "plt.legend(loc='lower right')\n",
        "plt.show()\n"
      ],
      "metadata": {
        "colab": {
          "base_uri": "https://localhost:8080/",
          "height": 599
        },
        "id": "DOvb_h0Rzkjl",
        "outputId": "e6aa7ef0-0ece-4f7b-ac60-238f16a4ee72"
      },
      "id": "DOvb_h0Rzkjl",
      "execution_count": 17,
      "outputs": [
        {
          "output_type": "stream",
          "name": "stdout",
          "text": [
            "5/5 [==============================] - 0s 24ms/step\n",
            "ROC AUC: 0.7511792452830189\n"
          ]
        },
        {
          "output_type": "display_data",
          "data": {
            "text/plain": [
              "<Figure size 800x600 with 1 Axes>"
            ],
            "image/png": "[encoded data removed]"
          },
          "metadata": {}
        }
      ]
    },
    {
      "cell_type": "code",
      "source": [
        "# Convert predicted probabilities to binary predictions\n",
        "y_pred_binary = (y_pred_prob > 0.5).astype(int)\n",
        "\n",
        "# Generate predicted summary\n",
        "predicted_summary = pd.DataFrame({'Text': tokenizer.sequences_to_texts(X_test),\n",
        "                                  'True Label': y_test,\n",
        "                                  'Predicted Label': y_pred_binary.flatten(),\n",
        "                                  'Probability': y_pred_prob.flatten()})\n",
        "\n",
        "print(\"Predicted Summary:\")\n",
        "print(predicted_summary)"
      ],
      "metadata": {
        "colab": {
          "base_uri": "https://localhost:8080/"
        },
        "id": "q9s_L4jvzxEH",
        "outputId": "2d416427-64b5-4ac9-d974-6c678cfdd861"
      },
      "id": "q9s_L4jvzxEH",
      "execution_count": 21,
      "outputs": [
        {
          "output_type": "stream",
          "name": "stdout",
          "text": [
            "Predicted Summary:\n",
            "                                                  Text  True Label  \\\n",
            "286  mohfw covid 19 vaccine portal national clinica...           1   \n",
            "655  trial figures provided two pfizer effective pi...           1   \n",
            "257  mohfw central teams chhattisgarh uttar pradesh...           1   \n",
            "336  prime minister high level meeting chief minist...           1   \n",
            "318  ministry culture issues re opening art prevent...           1   \n",
            "..                                                 ...         ...   \n",
            "333  minister health called health make post covid ...           1   \n",
            "506  potential virus areas body might help wide sym...           1   \n",
            "24   china countries demonstrating spread virus slo...           1   \n",
            "158  november panel present interim report world he...           0   \n",
            "517  policy administration implement science based ...           0   \n",
            "\n",
            "     Predicted Label  Probability  \n",
            "286                1     0.999437  \n",
            "655                0     0.210469  \n",
            "257                1     0.961403  \n",
            "336                1     0.989259  \n",
            "318                0     0.412383  \n",
            "..               ...          ...  \n",
            "333                1     0.921385  \n",
            "506                1     0.979666  \n",
            "24                 1     0.673325  \n",
            "158                1     0.807959  \n",
            "517                1     0.631835  \n",
            "\n",
            "[138 rows x 4 columns]\n"
          ]
        }
      ]
    }
  ],
  "metadata": {
    "colab": {
      "provenance": [],
      "include_colab_link": true
    },
    "kernelspec": {
      "display_name": "Python 3 (ipykernel)",
      "language": "python",
      "name": "python3"
    },
    "language_info": {
      "codemirror_mode": {
        "name": "ipython",
        "version": 3
      },
      "file_extension": ".py",
      "mimetype": "text/x-python",
      "name": "python",
      "nbconvert_exporter": "python",
      "pygments_lexer": "ipython3",
      "version": "3.7.16"
    }
  },
  "nbformat": 4,
  "nbformat_minor": 5
}